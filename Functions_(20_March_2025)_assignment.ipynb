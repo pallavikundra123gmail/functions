{
  "cells": [
    {
      "cell_type": "code",
      "execution_count": null,
      "metadata": {
        "id": "LQG1hugOq7NQ"
      },
      "outputs": [],
      "source": [
        "Functions theory questions:-"
      ]
    },
    {
      "cell_type": "code",
      "execution_count": null,
      "metadata": {
        "colab": {
          "base_uri": "https://localhost:8080/"
        },
        "id": "kFsWC4x7l5w1",
        "outputId": "4bacaaa9-7a7c-411c-c28d-8489fec7b1af"
      },
      "outputs": [
        {
          "name": "stdout",
          "output_type": "stream",
          "text": [
            " hello welcome pallavi\n",
            "Hello from the Person!\n"
          ]
        }
      ],
      "source": [
        " 1.  What is the difference between a function and a method in Python?\n",
        "#Ans:-Function is a block of code that perform task , for defining using def keyword , functions are work independently.\n",
        "     Methods functions is associated with an object , and define with in class , called on an object.\n",
        "\n",
        "    example:- Functions\n",
        "    def name(x): #  x is functions\n",
        "    print(\" hello welcome\" , x)\n",
        "    name(\"pallavi\")\n",
        "\n",
        "    example:-Method\n",
        "    class Person:\n",
        "    def greet(self):  # Method inside a class\n",
        "        print(\"Hello from the Person!\")\n",
        "\n",
        "p = Person()\n",
        "p.greet()"
      ]
    },
    {
      "cell_type": "code",
      "execution_count": null,
      "metadata": {
        "colab": {
          "base_uri": "https://localhost:8080/"
        },
        "id": "2Km4rKwuisWk",
        "outputId": "b41cbb22-2157-44c7-ca47-d44956a1287c"
      },
      "outputs": [
        {
          "name": "stdout",
          "output_type": "stream",
          "text": [
            "10\n"
          ]
        }
      ],
      "source": [
        "#2. Explain the concept of function arguments and parameters in Python?\n",
        "\n",
        "#Ans:- Variable lists in functions are parameter.\n",
        "#      Arguments are those values which are passed against the parameters.\n",
        "#example :-\n",
        "def addition(a,b,c): # a,b,c are the parameters\n",
        "    return (a+b+c)\n",
        "print(addition(2,5,3)) # values i.e. 2,5,3 are the arguments"
      ]
    },
    {
      "cell_type": "code",
      "execution_count": null,
      "metadata": {
        "colab": {
          "base_uri": "https://localhost:8080/"
        },
        "id": "rq_6nItZjFLi",
        "outputId": "218bf282-11b4-4709-a250-c8bc412117cc"
      },
      "outputs": [
        {
          "name": "stdout",
          "output_type": "stream",
          "text": [
            "from regular function : hello welcome  pallavi\n",
            "from lambda function : hello welcome,pallavi\n"
          ]
        }
      ],
      "source": [
        "#3. What are the different ways to define and call a function in Python?\n",
        "\n",
        "#Ans:- there are the many ways to define and call the functions in python :-\n",
        "#     1. regular function\n",
        "#     2. lambda function\n",
        "#     3. function with keywords\n",
        "#     4. function with arguments\n",
        "# example:- regular function>>\n",
        "def greet(name):\n",
        "    print(\"from regular function : hello welcome \",name)\n",
        "greet(\"pallavi\")\n",
        "#example:- lambda function>>\n",
        "greet01 = lambda name : f\"hello welcome,{name}\"\n",
        "print(\"from lambda function :\", greet01(\"pallavi\"))"
      ]
    },
    {
      "cell_type": "code",
      "execution_count": null,
      "metadata": {
        "colab": {
          "base_uri": "https://localhost:8080/"
        },
        "id": "ditzFEI9j7fi",
        "outputId": "4e59b41e-62b0-4688-ef3e-90a724fdbc97"
      },
      "outputs": [
        {
          "name": "stdout",
          "output_type": "stream",
          "text": [
            "5\n"
          ]
        }
      ],
      "source": [
        "#4. What is the purpose of the `return` statement in a Python function?\n",
        "\n",
        "Ans:- return statement in python used for execute function with argument and return back to the caller and used when we want to use such result of return statement later also  but it exits the function and storing in memory\n",
        "#example:-\n",
        "def num(a,b):\n",
        "    return a+b\n",
        "print(num(2,3))\n"
      ]
    },
    {
      "cell_type": "code",
      "execution_count": null,
      "metadata": {
        "colab": {
          "base_uri": "https://localhost:8080/"
        },
        "id": "ejdfSCThkAy2",
        "outputId": "53d37c22-debc-4ee5-8601-9aa1b2ff3093"
      },
      "outputs": [
        {
          "name": "stdout",
          "output_type": "stream",
          "text": [
            "even numbers : [2, 4, 6, 8]\n"
          ]
        }
      ],
      "source": [
        "#5. What are iterators in Python and how do they differ from iterables?\n",
        "\n",
        "Ans:- 1. iterables are the object which contain element and we want to iterate over such elements.\n",
        "#     2. iterators means object with methods of iteration that iterate each element but one at time.\n",
        "#example:-\n",
        "num=[1,2,3,4,5,6,7,8,9]\n",
        "even_num=[]\n",
        "for i in num:\n",
        "    if i%2==0:\n",
        "        even_num.append(i)\n",
        "print(\"even numbers :\",even_num)"
      ]
    },
    {
      "cell_type": "code",
      "execution_count": null,
      "metadata": {
        "colab": {
          "base_uri": "https://localhost:8080/"
        },
        "id": "dL_9xKndn3Oz",
        "outputId": "17e9342c-b97a-45fe-e71d-2d313a5faa57"
      },
      "outputs": [
        {
          "data": {
            "text/plain": [
              "<generator object num at 0x7fa148657370>"
            ]
          },
          "execution_count": 13,
          "metadata": {},
          "output_type": "execute_result"
        }
      ],
      "source": [
        "#6. Explain the concept of generators in Python and how they are defined?\n",
        "\n",
        "Ans:- generators are use yield instead of return for producing sequence of values one by one without storing it in memory .\n",
        "#example:-\n",
        "def num(x):\n",
        "    for i in range(x) :\n",
        "        yield(x**2)\n",
        "num(5)"
      ]
    },
    {
      "cell_type": "code",
      "execution_count": null,
      "metadata": {
        "colab": {
          "base_uri": "https://localhost:8080/"
        },
        "id": "nYQuT8lkoELi",
        "outputId": "9ac0be9c-c77b-4a97-cfeb-1c7e3bdd8d5c"
      },
      "outputs": [
        {
          "data": {
            "text/plain": [
              "<generator object num at 0x7fa1486569b0>"
            ]
          },
          "execution_count": 14,
          "metadata": {},
          "output_type": "execute_result"
        }
      ],
      "source": [
        "num(10)"
      ]
    },
    {
      "cell_type": "code",
      "execution_count": null,
      "metadata": {
        "colab": {
          "base_uri": "https://localhost:8080/"
        },
        "id": "-ZqBSOlBoNYY",
        "outputId": "5a80d669-14c9-4f6e-e0a3-a17027e42b1d"
      },
      "outputs": [
        {
          "data": {
            "text/plain": [
              "25"
            ]
          },
          "execution_count": 18,
          "metadata": {},
          "output_type": "execute_result"
        }
      ],
      "source": [
        "sq_gen=num(5)\n",
        "next(sq_gen)"
      ]
    },
    {
      "cell_type": "code",
      "execution_count": null,
      "metadata": {
        "colab": {
          "base_uri": "https://localhost:8080/"
        },
        "id": "erLWysKEkI5h",
        "outputId": "6bc19a6b-ee1e-4db6-bab1-b8e2e1aa792e"
      },
      "outputs": [
        {
          "name": "stdout",
          "output_type": "stream",
          "text": [
            "squares of numbers : [0, 1, 4, 9, 16]\n"
          ]
        }
      ],
      "source": [
        "#7. What are the advantages of using generators over regular functions?\n",
        "\n",
        "#Ans:-Below mentioned are the advantages:-\n",
        "#      1. generator functions saves the memory because it doesn't uses the memory but regular function uses the memory\n",
        "#      2. generators are useful when there is large data sets\n",
        "#      3. generate values one by one when we call such values not print all values at once\n",
        "#example:- regular functions >>\n",
        "def square(n):\n",
        "    sq_no = []\n",
        "    for i in range(n):\n",
        "        sq_no.append(i**2)\n",
        "    return sq_no\n",
        "print(\"squares of numbers :\",square(5))"
      ]
    },
    {
      "cell_type": "code",
      "execution_count": null,
      "metadata": {
        "colab": {
          "base_uri": "https://localhost:8080/"
        },
        "id": "SHQ7jFRjkMz8",
        "outputId": "8ab031e3-298e-4834-9a14-760b803d9464"
      },
      "outputs": [
        {
          "data": {
            "text/plain": [
              "100"
            ]
          },
          "execution_count": 20,
          "metadata": {},
          "output_type": "execute_result"
        }
      ],
      "source": [
        "#8. What is a lambda function in Python and when is it typically used?\n",
        "\n",
        "Ans:- lambda is a function which is used when we have multiple arguments but having only single expression\n",
        "#     lambda is used for short and simple operations\n",
        "#example:-\n",
        "square = lambda x : x**2\n",
        "square(10)"
      ]
    },
    {
      "cell_type": "code",
      "execution_count": null,
      "metadata": {
        "colab": {
          "base_uri": "https://localhost:8080/"
        },
        "id": "0BLpYBCHkPj4",
        "outputId": "dbaf382c-4412-452f-e94d-8ccc84aa683d"
      },
      "outputs": [
        {
          "name": "stdout",
          "output_type": "stream",
          "text": [
            "[1, 4, 9, 16, 25, 36, 49, 64, 81]\n"
          ]
        }
      ],
      "source": [
        "#9. Explain the purpose and usage of the `map()` function in Python?\n",
        "\n",
        "#Ans:-Map function is a function which is applies such function to the all elements in an iterable\n",
        "#example:-\n",
        "l = [1,2,3,4,5,6,7,8,9]\n",
        "square = list(map(lambda a : a**2,l))\n",
        "print(square)"
      ]
    },
    {
      "cell_type": "code",
      "execution_count": null,
      "metadata": {
        "colab": {
          "base_uri": "https://localhost:8080/"
        },
        "id": "NAIo54izpnmo",
        "outputId": "d145d1d8-a1fb-4ff1-9ed4-6d5edb565b83"
      },
      "outputs": [
        {
          "name": "stdout",
          "output_type": "stream",
          "text": [
            "map result : [1, 4, 9, 16, 25, 36, 49, 64, 81]\n",
            "reduce result : 45\n",
            "filter result : [2, 4, 6, 8]\n"
          ]
        }
      ],
      "source": [
        "#10. What is the difference between `map()`, `reduce()`, and `filter()` functions in Python?\n",
        "\n",
        "#Ans:- 1. map():- map function is a function which is applies such function to the all elements in an iterable\n",
        "\n",
        "from functools import reduce\n",
        "#l. map() =[1,2,3,4,5,6,7,8,9]\n",
        "square_num = list(map(lambda x : x**2 ,l))\n",
        "print(\"map result :\" ,square_num)\n",
        "\n",
        "#2. reduce():- reduce performe cumulative computation of an elements which is itreable\n",
        "#example:-\n",
        "sum_all_num = reduce(lambda a,b : a+b , l)\n",
        "print(\"reduce result :\" ,sum_all_num)\n",
        "\n",
        "#3. filter():- filter function is used when we need to filter the elements of iterable\n",
        "#example:-\n",
        "even_num = list(filter(lambda e : e%2==0,l))\n",
        "print(\"filter result :\" , even_num)"
      ]
    },
    {
      "cell_type": "code",
      "execution_count": null,
      "metadata": {
        "id": "3sBkOgOrtC62"
      },
      "outputs": [],
      "source": [
        "#11. Using pen & Paper write the internal mechanism for sum operation using  reduce function on this given list:[47,11,42,13];?\n",
        "\n",
        "#Ans:- sum operation using reduce function\n",
        "from PIL import Image\n",
        "import requests\n",
        "from io import BytesIO\n",
        "from IPython.display import display\n",
        "\n",
        "# Corrected raw image URL (Replace with your actual raw URL)\n",
        "img_url =\n",
        "\n"
      ]
    },
    {
      "cell_type": "code",
      "execution_count": null,
      "metadata": {
        "id": "NX8P7LP3q8Gk"
      },
      "outputs": [],
      "source": [
        "Practical Questions:-"
      ]
    },
    {
      "cell_type": "code",
      "execution_count": null,
      "metadata": {
        "colab": {
          "base_uri": "https://localhost:8080/"
        },
        "id": "9pjHmUCZqiTO",
        "outputId": "65c32e61-c5e1-45e9-f753-af4967e731b0"
      },
      "outputs": [
        {
          "name": "stdout",
          "output_type": "stream",
          "text": [
            "20\n"
          ]
        }
      ],
      "source": [
        "#1. Write a Python function that takes a list of numbers as input and returns the sum of all even numbers in the list?\n",
        "Ans:-\n",
        "l = [1,2,3,4,5,6,7,8,9]\n",
        "sum_even = list(filter(lambda x :  x%2==0 ,l))\n",
        "print(sum(sum_even))"
      ]
    },
    {
      "cell_type": "code",
      "execution_count": null,
      "metadata": {
        "colab": {
          "base_uri": "https://localhost:8080/"
        },
        "id": "ayqi9uOJ4Tde",
        "outputId": "97cc678c-12e1-41d7-a931-e567d077d762"
      },
      "outputs": [
        {
          "name": "stdout",
          "output_type": "stream",
          "text": [
            "enter a string :-1\n",
            "reversed string : 1-\n"
          ]
        }
      ],
      "source": [
        "#2. Create a Python function that accepts a string and returns the reverse of that string.\n",
        "string = input(\"enter a string :\")\n",
        "print(\"reversed string :\" ,string[::-1])"
      ]
    },
    {
      "cell_type": "code",
      "execution_count": null,
      "metadata": {
        "colab": {
          "base_uri": "https://localhost:8080/"
        },
        "id": "zBjODgKduXj-",
        "outputId": "ac007c69-7119-4770-b8ae-76395d4e7744"
      },
      "outputs": [
        {
          "name": "stdout",
          "output_type": "stream",
          "text": [
            "output with map function: [1, 4, 9, 16, 25, 36, 49, 64, 81]\n",
            "output with general function: [1, 4, 9, 16, 25, 36, 49, 64, 81]\n"
          ]
        }
      ],
      "source": [
        "#3. Implement a Python function that takes a list of integers and returns a new list containing the squares of each number?\n",
        "l = [1,2,3,4,5,6,7,8,9]\n",
        "square = list(map(lambda x : x**2 ,l))\n",
        "print(\"output with map function:\",square)\n",
        "\n",
        "#with general function\n",
        "l2 = [1,2,3,4,5,6,7,8,9]\n",
        "def sq_num(l2):\n",
        "    l3=[]\n",
        "    for i in l2:\n",
        "        l3.append(i**2)\n",
        "    return l3\n",
        "\n",
        "print(\"output with general function:\",sq_num(l2))\n"
      ]
    },
    {
      "cell_type": "code",
      "execution_count": null,
      "metadata": {
        "colab": {
          "base_uri": "https://localhost:8080/"
        },
        "id": "wbAkKmzyubwJ",
        "outputId": "34e3ec3d-7018-462d-af5d-2cc63f1b44d4"
      },
      "outputs": [
        {
          "name": "stdout",
          "output_type": "stream",
          "text": [
            "[2, 3, 5, 7, 11, 13, 17, 19, 23, 29, 31, 37, 41, 43, 47, 53, 59, 61, 67, 71, 73, 79, 83, 89, 97, 101, 103, 107, 109, 113, 127, 131, 137, 139, 149, 151, 157, 163, 167, 173, 179, 181, 191, 193, 197, 199]\n"
          ]
        }
      ],
      "source": [
        "#4. Write a Python function that checks if a given number is prime or not from 1 to 200?\n",
        "Ans:-primes =[]\n",
        "for n in range(1,201):\n",
        "    if n<2:\n",
        "        continue\n",
        "    prime_num = True\n",
        "    for i in range(2,n):\n",
        "        if n%i==0:\n",
        "            prime_num=False\n",
        "            break\n",
        "    if prime_num:\n",
        "        primes.append(n)\n",
        "\n",
        "print(primes)"
      ]
    },
    {
      "cell_type": "code",
      "execution_count": null,
      "metadata": {
        "colab": {
          "base_uri": "https://localhost:8080/"
        },
        "id": "e9jCIuonuwpf",
        "outputId": "e1449282-79ba-4676-9276-9ea91d6e833e"
      },
      "outputs": [
        {
          "name": "stdout",
          "output_type": "stream",
          "text": [
            "0 1 1 2 3 5 8 13 21 34\n"
          ]
        }
      ],
      "source": [
        "#5. Create an iterator class in Python that generates the Fibonacci sequence up to a specified number of terms?\n",
        "\n",
        "#Ans:-\n",
        "class Fibonacci:\n",
        "    def __init__(self, n):\n",
        "        self.a, self.b, self.n = 0, 1, n\n",
        "\n",
        "    def __iter__(self):\n",
        "        return self\n",
        "\n",
        "    def __next__(self):\n",
        "        if self.n <= 0:\n",
        "            raise StopIteration\n",
        "        self.n -= 1\n",
        "        self.a, self.b = self.b, self.a + self.b\n",
        "        return self.b - self.a\n",
        "\n",
        "# Create and use the iterator in the simplest way\n",
        "fib_obj = Fibonacci(10)\n",
        "print(*fib_obj)"
      ]
    },
    {
      "cell_type": "code",
      "execution_count": null,
      "metadata": {
        "colab": {
          "base_uri": "https://localhost:8080/"
        },
        "id": "fJhlReH241ue",
        "outputId": "3443eeb5-5b61-4ef5-e485-5348e7a14001"
      },
      "outputs": [
        {
          "name": "stdout",
          "output_type": "stream",
          "text": [
            "[1, 2, 4, 8, 16, 32]\n"
          ]
        }
      ],
      "source": [
        "#6. Write a generator function in Python that yields the powers of 2 up to a given exponent?\n",
        "def power_of_2(n):\n",
        "    for i in range(n+1):\n",
        "        yield 2**i\n",
        "print(list(power_of_2(5)))"
      ]
    },
    {
      "cell_type": "code",
      "execution_count": null,
      "metadata": {
        "id": "R1abfAe0wMRX"
      },
      "outputs": [],
      "source": [
        "#7. Implement a generator function that reads a file line by line and yields each line as a string?\n",
        "Ans:-\n",
        "def read_file(file_path):\n",
        "    with open(file_path, \"r\") as file:\n",
        "        yield from file"
      ]
    },
    {
      "cell_type": "code",
      "execution_count": null,
      "metadata": {
        "colab": {
          "base_uri": "https://localhost:8080/"
        },
        "id": "_jgIynD02_ZY",
        "outputId": "960825b0-5a46-428a-ba44-d5785e1df573"
      },
      "outputs": [
        {
          "name": "stdout",
          "output_type": "stream",
          "text": [
            "[(1, 2), (5, 3), (6, 5), (4, 8)]\n"
          ]
        }
      ],
      "source": [
        "#8. Use a lambda function in Python to sort a list of tuples based on the second element of each tuple?\n",
        "Ans:-\n",
        "t=[(1,2),(4,8),(5,3),(6,5)]\n",
        "print(sorted(t,key=lambda x : x[1]))"
      ]
    },
    {
      "cell_type": "code",
      "execution_count": null,
      "metadata": {
        "colab": {
          "base_uri": "https://localhost:8080/"
        },
        "id": "aYyRBMSr3Gro",
        "outputId": "6bba9556-36ce-4c81-aefb-954c44a3e2f9"
      },
      "outputs": [
        {
          "name": "stdout",
          "output_type": "stream",
          "text": [
            "[32.0, 122.0, 140.0, 172.4, 203.0, 230.0]\n"
          ]
        }
      ],
      "source": [
        "#9. Write a Python program that uses `map()` to convert a list of temperatures from Celsius to Fahrenheit?\n",
        "Ans:-\n",
        "celsius = [ 0 , 50,60,78,95,110]\n",
        "fahrenhiet = list(map(lambda c : ((c*9/5)+32) , celsius))\n",
        "print(fahrenhiet)"
      ]
    },
    {
      "cell_type": "code",
      "execution_count": null,
      "metadata": {
        "id": "xA_-WFOm5oJQ"
      },
      "outputs": [],
      "source": [
        "#10. Create a Python program that uses `filter()` to remove all the vowels from a given string\n",
        "v = input(\"enter a string\")\n",
        "remove_vowels = filter(lambda r : r.lower() not in \"aieou\",v)\n",
        "print(\"\".join(remove_vowels))"
      ]
    },
    {
      "cell_type": "code",
      "execution_count": null,
      "metadata": {
        "id": "rZ9C7D9TzYCZ"
      },
      "outputs": [],
      "source": [
        "#11) Imagine an accounting routine used in a book shop. It works on a list with sublists, which look like this?\n",
        "''' Order No.  Book Title and Author                 Quantity   Price per item\n",
        "     34587      Learning Python, Mark Lutz              4            40.95\n",
        "     98762      Programming Python, Mark Lutz           5            56.80\n",
        "     77226      Head First Python, Paul Barry           3            32.95\n",
        "     88112      Einführung in Python3, Bernd Klein      3            24.99  '''\n",
        "#Write a Python program, which returns a list with 2-tuples. Each tuple consists of the order number and the\n",
        "#product of the price per item and the quantity. The product should be increased by 10,- € if the value of the\n",
        "#order is smaller than 100.00 €.\n",
        "\n",
        "#Write a Python program using lambda and map\n"
      ]
    },
    {
      "cell_type": "code",
      "execution_count": null,
      "metadata": {
        "colab": {
          "base_uri": "https://localhost:8080/"
        },
        "id": "xsODdAkC0DFr",
        "outputId": "1ada1bb0-69b9-4375-c828-ee7504806619"
      },
      "outputs": [
        {
          "name": "stdout",
          "output_type": "stream",
          "text": [
            "(oder no , final total price) : [(34587, 163.8), (98762, 284.0), (77226, 108.85000000000001), (88112, 84.97)]\n"
          ]
        }
      ],
      "source": [
        "Ans:-order_list=\n",
        "    (34587, \"Learning Python, Mark Lutz\", 4, 40.95),\n",
        "    (98762, \"Programming Python, Mark Lutz\", 5, 56.80),\n",
        "    (77226, \"Head First Python, Paul Barry\", 3, 32.95),\n",
        "    (88112, \"Einführung in Python3, Bernd Klein\", 3, 24.99)\n",
        "\n",
        "result= list(map(lambda x:(x[0], x[2]*x[3]+(10 if x[2]*x[3]<100 else 0)),order_list))\n",
        "print(\"(oder no , final total price) :\",result)\n",
        "\n",
        "#map function applies a lambda function to each order.\n",
        "#lambda function calculates the total price (quantity * price per item).\n",
        "#If the total is less than 100, it adds 10 to the value.\n",
        "#The result is a list of tuples with (order number, final total price)."
      ]
    },
    {
      "cell_type": "code",
      "execution_count": null,
      "metadata": {
        "id": "ku_hQOwt5gO0"
      },
      "outputs": [],
      "source": []
    }
  ],
  "metadata": {
    "colab": {
      "provenance": []
    },
    "kernelspec": {
      "display_name": "Python 3",
      "name": "python3"
    },
    "language_info": {
      "name": "python"
    }
  },
  "nbformat": 4,
  "nbformat_minor": 0
}
